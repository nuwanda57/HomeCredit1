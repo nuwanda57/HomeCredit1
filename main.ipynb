{
 "cells": [
  {
   "cell_type": "code",
   "execution_count": 56,
   "metadata": {},
   "outputs": [],
   "source": [
    "!jt -t grade3"
   ]
  },
  {
   "cell_type": "markdown",
   "metadata": {},
   "source": [
    "# Предсказание способности клиентов выплатить кредит на основе соревнования [HomeCredit](https://www.kaggle.com/c/home-credit-default-risk/overview)"
   ]
  },
  {
   "cell_type": "markdown",
   "metadata": {},
   "source": [
    "## Данные\n",
    "\n",
    "`\n",
    "SK_ID_CURR - уникальный идентификатор заявки (уникальный идентификатор объекта). Для каждого объекта нам надо будет предсказать, будет ли выплачен кредит.\n",
    "TARGET - бинарная целевая переменная (0 - кредит выплачен, 1 - не выплачен)\n",
    "`\n",
    "\n",
    "### Обзор таблиц\n",
    "- __application_train/application_test__ - основная информация о кредитных заявках. Строка - заявка.\n",
    "- - __SK_ID_CURR__ - идентифокатор заявки\n",
    "- - __TARGET__ - целевая переменная (0 - кредит выплачен, 1 - не выплачен)\n",
    "- __bureau__ - история предыдущих кредитов из других источников. Строка - один предыдущий кредит.\n",
    "- __bureau_balance__ - ежемесячная информация о предыдущих кредитах (bureau). Число строк, соответствующих кредиту, равно длительности кредита в месяцах.\n",
    "- __previous_application__\n",
    "- __POS_CASH_BALANCE__\n",
    "- __credit_card_balance__ - ежемесячная информация о предыдущих кредитных картах клиентов HomeCredit. Каждый ряд в этой таблице представляет информацию о кредитной карте в определенном месяце, то есть для одной кредитной карты может присутствовать несколько рядов.\n",
    "- - __SK_ID_CURR__ - идентифокатор заявки (см. поле SK_ID_CURR в таблице application).\n",
    "- - __SK_ID_PREV__ - идентифокатор старой заявки, связанной с SK_ID_CURR.\n",
    "- __installments_payment__"
   ]
  },
  {
   "cell_type": "markdown",
   "metadata": {},
   "source": [
    "### Таблица application\n",
    "\n",
    "`\n",
    "Основная таблица. Одна строка соответствует одной заявке.\n",
    "`\n",
    "\n",
    "\n",
    "- __SK_ID_CURR__ - ID of loan in our sample\n",
    "- __TARGET__ - Target variable (1 - client with payment difficulties: he/she had late payment more than X days on at least one of the first Y installments of the loan in our sample, 0 - all other cases)\n",
    "- __NAME_CONTRACT_TYPE__ - Identification if loan is cash or revolving\n",
    "- __CODE_GENDER__ - Gender of the client\n",
    "- __FLAG_OWN_CAR__ - Flag if the client owns a car\n",
    "- __FLAG_OWN_REALTY__ - Flag if client owns a house or flat\n",
    "- __CNT_CHILDREN__ - Number of children the client has\n",
    "- __AMT_INCOME_TOTAL__ - Income of the client\n",
    "- __AMT_CREDIT__ - Credit amount of the loan\n",
    "- __AMT_ANNUITY__ - Loan annuity\n",
    "- __AMT_GOODS_PRICE__ - For consumer loans it is the price of the goods for which the loan is given\n",
    "- __NAME_TYPE_SUITE__ - Who was accompanying client when he was applying for the loan\n",
    "- __NAME_INCOME_TYPE__ - Clients income type (businessman, working, maternity leave,",
    ")\n",
    "- __NAME_EDUCATION_TYPE__ - Level of highest education the client achieved\n",
    "- __NAME_FAMILY_STATUS__ - Family status of the client\n",
    "- __NAME_HOUSING_TYPE__ - What is the housing situation of the client (renting, living with parents, ...)\n",
    "- __REGION_POPULATION_RELATIVE__ - Normalized population of region where client lives (higher number means the client lives in more populated region)\n",
    "- __DAYS_BIRTH__ - Client's age in days at the time of application\n",
    "- __DAYS_EMPLOYED__ - How many days before the application the person started current employment\n",
    "- __DAYS_REGISTRATION__ - How many days before the application did client change his registration\n",
    "- __DAYS_ID_PUBLISH__ - How many days before the application did client change the identity document with which he applied for the loan\n",
    "- __OWN_CAR_AGE__ - Age of client's car\n",
    "- __FLAG_MOBIL__ - Did client provide mobile phone (1=YES, 0=NO)\n",
    "- __FLAG_EMP_PHONE__ - Did client provide work phone (1=YES, 0=NO)\n",
    "- __FLAG_WORK_PHONE__ - Did client provide home phone (1=YES, 0=NO)\n",
    "- __FLAG_CONT_MOBILE__ - Was mobile phone reachable (1=YES, 0=NO)\n",
    "- __FLAG_PHONE__ - Did client provide home phone (1=YES, 0=NO)\n",
    "- __FLAG_EMAIL__ - Did client provide email (1=YES, 0=NO)\n",
    "- __OCCUPATION_TYPE__ - What kind of occupation does the client have\n",
    "- __CNT_FAM_MEMBERS__ - How many family members does client have\n",
    "- __REGION_RATING_CLIENT__ - Our rating of the region where client lives (1,2,3)\n",
    "- __REGION_RATING_CLIENT_W_CITY__ - Our rating of the region where client lives with taking city into account (1,2,3)\n",
    "- __WEEKDAY_APPR_PROCESS_START__ - On which day of the week did the client apply for the loan\n",
    "- __HOUR_APPR_PROCESS_START__ - Approximately at what hour did the client apply for the loan\n",
    "- __REG_REGION_NOT_LIVE_REGION__ - Flag if client's permanent address does not match contact address (1=different, 0=same, at region level)\n",
    "- __REG_REGION_NOT_WORK_REGION__ - Flag if client's permanent address does not match work address (1=different, 0=same, at region level)\n",
    "- __LIVE_REGION_NOT_WORK_REGION__ - Flag if client's contact address does not match work address (1=different, 0=same, at region level)\n",
    "- __REG_CITY_NOT_LIVE_CITY__ - Flag if client's permanent address does not match contact address (1=different, 0=same, at city level)\n",
    "- __REG_CITY_NOT_WORK_CITY__ - Flag if client's permanent address does not match work address (1=different, 0=same, at city level)\n",
    "- __LIVE_CITY_NOT_WORK_CITY__ - Flag if client's contact address does not match work address (1=different, 0=same, at city level)\n",
    "- __ORGANIZATION_TYPE__ - Type of organization where client works\n",
    "- __EXT_SOURCE_1__ - Normalized score from external data source\n",
    "- __EXT_SOURCE_2__ - Normalized score from external data source\n",
    "- __EXT_SOURCE_3__ - Normalized score from external data source\n",
    "- __APARTMENTS_AVG__ - Normalized information about building where the client lives, What is average (_AVG suffix), modus (_MODE suffix), median (_MEDI suffix) apartment size, common area, living area, age of building, number of elevators, number of entrances, state of the building, number of floor\n",
    "- __BASEMENTAREA_AVG__ - Normalized information about building where the client lives, What is average (_AVG suffix), modus (_MODE suffix), median (_MEDI suffix) apartment size, common area, living area, age of building, number of elevators, number of entrances, state of the building, number of floor\n",
    "- __YEARS_BEGINEXPLUATATION_AVG__ - Normalized information about building where the client lives, What is average (_AVG suffix), modus (_MODE suffix), median (_MEDI suffix) apartment size, common area, living area, age of building, number of elevators, number of entrances, state of the building, number of floor\n",
    "- __YEARS_BUILD_AVG__ - Normalized information about building where the client lives, What is average (_AVG suffix), modus (_MODE suffix), median (_MEDI suffix) apartment size, common area, living area, age of building, number of elevators, number of entrances, state of the building, number of floor\n",
    "- __COMMONAREA_AVG__ - Normalized information about building where the client lives, What is average (_AVG suffix), modus (_MODE suffix), median (_MEDI suffix) apartment size, common area, living area, age of building, number of elevators, number of entrances, state of the building, number of floor\n",
    "- __ELEVATORS_AVG__ - Normalized information about building where the client lives, What is average (_AVG suffix), modus (_MODE suffix), median (_MEDI suffix) apartment size, common area, living area, age of building, number of elevators, number of entrances, state of the building, number of floor\n",
    "- __ENTRANCES_AVG__ - Normalized information about building where the client lives, What is average (_AVG suffix), modus (_MODE suffix), median (_MEDI suffix) apartment size, common area, living area, age of building, number of elevators, number of entrances, state of the building, number of floor\n",
    "- __FLOORSMAX_AVG__ - Normalized information about building where the client lives, What is average (_AVG suffix), modus (_MODE suffix), median (_MEDI suffix) apartment size, common area, living area, age of building, number of elevators, number of entrances, state of the building, number of floor\n",
    "- __FLOORSMIN_AVG__ - Normalized information about building where the client lives, What is average (_AVG suffix), modus (_MODE suffix), median (_MEDI suffix) apartment size, common area, living area, age of building, number of elevators, number of entrances, state of the building, number of floor\n",
    "- __LANDAREA_AVG__ - Normalized information about building where the client lives, What is average (_AVG suffix), modus (_MODE suffix), median (_MEDI suffix) apartment size, common area, living area, age of building, number of elevators, number of entrances, state of the building, number of floor\n",
    "- __LIVINGAPARTMENTS_AVG__ - Normalized information about building where the client lives, What is average (_AVG suffix), modus (_MODE suffix), median (_MEDI suffix) apartment size, common area, living area, age of building, number of elevators, number of entrances, state of the building, number of floor\n",
    "- __LIVINGAREA_AVG__ - Normalized information about building where the client lives, What is average (_AVG suffix), modus (_MODE suffix), median (_MEDI suffix) apartment size, common area, living area, age of building, number of elevators, number of entrances, state of the building, number of floor\n",
    "- __NONLIVINGAPARTMENTS_AVG__ - Normalized information about building where the client lives, What is average (_AVG suffix), modus (_MODE suffix), median (_MEDI suffix) apartment size, common area, living area, age of building, number of elevators, number of entrances, state of the building, number of floor\n",
    "- __NONLIVINGAREA_AVG__ - Normalized information about building where the client lives, What is average (_AVG suffix), modus (_MODE suffix), median (_MEDI suffix) apartment size, common area, living area, age of building, number of elevators, number of entrances, state of the building, number of floor\n",
    "- __APARTMENTS_MODE__ - Normalized information about building where the client lives, What is average (_AVG suffix), modus (_MODE suffix), median (_MEDI suffix) apartment size, common area, living area, age of building, number of elevators, number of entrances, state of the building, number of floor\n",
    "- __BASEMENTAREA_MODE__ - Normalized information about building where the client lives, What is average (_AVG suffix), modus (_MODE suffix), median (_MEDI suffix) apartment size, common area, living area, age of building, number of elevators, number of entrances, state of the building, number of floor\n",
    "- __YEARS_BEGINEXPLUATATION_MODE__ - Normalized information about building where the client lives, What is average (_AVG suffix), modus (_MODE suffix), median (_MEDI suffix) apartment size, common area, living area, age of building, number of elevators, number of entrances, state of the building, number of floor\n",
    "- __YEARS_BUILD_MODE__ - Normalized information about building where the client lives, What is average (_AVG suffix), modus (_MODE suffix), median (_MEDI suffix) apartment size, common area, living area, age of building, number of elevators, number of entrances, state of the building, number of floor\n",
    "- __COMMONAREA_MODE__ - Normalized information about building where the client lives, What is average (_AVG suffix), modus (_MODE suffix), median (_MEDI suffix) apartment size, common area, living area, age of building, number of elevators, number of entrances, state of the building, number of floor\n",
    "- __ELEVATORS_MODE__ - Normalized information about building where the client lives, What is average (_AVG suffix), modus (_MODE suffix), median (_MEDI suffix) apartment size, common area, living area, age of building, number of elevators, number of entrances, state of the building, number of floor\n",
    "- __ENTRANCES_MODE__ - Normalized information about building where the client lives, What is average (_AVG suffix), modus (_MODE suffix), median (_MEDI suffix) apartment size, common area, living area, age of building, number of elevators, number of entrances, state of the building, number of floor\n",
    "- __FLOORSMAX_MODE__ - Normalized information about building where the client lives, What is average (_AVG suffix), modus (_MODE suffix), median (_MEDI suffix) apartment size, common area, living area, age of building, number of elevators, number of entrances, state of the building, number of floor\n",
    "- __FLOORSMIN_MODE__ - Normalized information about building where the client lives, What is average (_AVG suffix), modus (_MODE suffix), median (_MEDI suffix) apartment size, common area, living area, age of building, number of elevators, number of entrances, state of the building, number of floor\n",
    "- __LANDAREA_MODE__ - Normalized information about building where the client lives, What is average (_AVG suffix), modus (_MODE suffix), median (_MEDI suffix) apartment size, common area, living area, age of building, number of elevators, number of entrances, state of the building, number of floor\n",
    "- __LIVINGAPARTMENTS_MODE__ - Normalized information about building where the client lives, What is average (_AVG suffix), modus (_MODE suffix), median (_MEDI suffix) apartment size, common area, living area, age of building, number of elevators, number of entrances, state of the building, number of floor\n",
    "- __LIVINGAREA_MODE__ - Normalized information about building where the client lives, What is average (_AVG suffix), modus (_MODE suffix), median (_MEDI suffix) apartment size, common area, living area, age of building, number of elevators, number of entrances, state of the building, number of floor\n",
    "- __NONLIVINGAPARTMENTS_MODE__ - Normalized information about building where the client lives, What is average (_AVG suffix), modus (_MODE suffix), median (_MEDI suffix) apartment size, common area, living area, age of building, number of elevators, number of entrances, state of the building, number of floor\n",
    "- __NONLIVINGAREA_MODE__ - Normalized information about building where the client lives, What is average (_AVG suffix), modus (_MODE suffix), median (_MEDI suffix) apartment size, common area, living area, age of building, number of elevators, number of entrances, state of the building, number of floor\n",
    "- __APARTMENTS_MEDI__ - Normalized information about building where the client lives, What is average (_AVG suffix), modus (_MODE suffix), median (_MEDI suffix) apartment size, common area, living area, age of building, number of elevators, number of entrances, state of the building, number of floor\n",
    "- __BASEMENTAREA_MEDI__ - Normalized information about building where the client lives, What is average (_AVG suffix), modus (_MODE suffix), median (_MEDI suffix) apartment size, common area, living area, age of building, number of elevators, number of entrances, state of the building, number of floor\n",
    "- __YEARS_BEGINEXPLUATATION_MEDI__ - Normalized information about building where the client lives, What is average (_AVG suffix), modus (_MODE suffix), median (_MEDI suffix) apartment size, common area, living area, age of building, number of elevators, number of entrances, state of the building, number of floor\n",
    "- __YEARS_BUILD_MEDI__ - Normalized information about building where the client lives, What is average (_AVG suffix), modus (_MODE suffix), median (_MEDI suffix) apartment size, common area, living area, age of building, number of elevators, number of entrances, state of the building, number of floor\n",
    "- __COMMONAREA_MEDI__ - Normalized information about building where the client lives, What is average (_AVG suffix), modus (_MODE suffix), median (_MEDI suffix) apartment size, common area, living area, age of building, number of elevators, number of entrances, state of the building, number of floor\n",
    "- __ELEVATORS_MEDI__ - Normalized information about building where the client lives, What is average (_AVG suffix), modus (_MODE suffix), median (_MEDI suffix) apartment size, common area, living area, age of building, number of elevators, number of entrances, state of the building, number of floor\n",
    "- __ENTRANCES_MEDI__ - Normalized information about building where the client lives, What is average (_AVG suffix), modus (_MODE suffix), median (_MEDI suffix) apartment size, common area, living area, age of building, number of elevators, number of entrances, state of the building, number of floor\n",
    "- __FLOORSMAX_MEDI__ - Normalized information about building where the client lives, What is average (_AVG suffix), modus (_MODE suffix), median (_MEDI suffix) apartment size, common area, living area, age of building, number of elevators, number of entrances, state of the building, number of floor\n",
    "- __FLOORSMIN_MEDI__ - Normalized information about building where the client lives, What is average (_AVG suffix), modus (_MODE suffix), median (_MEDI suffix) apartment size, common area, living area, age of building, number of elevators, number of entrances, state of the building, number of floor\n",
    "- __LANDAREA_MEDI__ - Normalized information about building where the client lives, What is average (_AVG suffix), modus (_MODE suffix), median (_MEDI suffix) apartment size, common area, living area, age of building, number of elevators, number of entrances, state of the building, number of floor\n",
    "- __LIVINGAPARTMENTS_MEDI__ - Normalized information about building where the client lives, What is average (_AVG suffix), modus (_MODE suffix), median (_MEDI suffix) apartment size, common area, living area, age of building, number of elevators, number of entrances, state of the building, number of floor\n",
    "- __LIVINGAREA_MEDI__ - Normalized information about building where the client lives, What is average (_AVG suffix), modus (_MODE suffix), median (_MEDI suffix) apartment size, common area, living area, age of building, number of elevators, number of entrances, state of the building, number of floor\n",
    "- __NONLIVINGAPARTMENTS_MEDI__ - Normalized information about building where the client lives, What is average (_AVG suffix), modus (_MODE suffix), median (_MEDI suffix) apartment size, common area, living area, age of building, number of elevators, number of entrances, state of the building, number of floor\n",
    "- __NONLIVINGAREA_MEDI__ - Normalized information about building where the client lives, What is average (_AVG suffix), modus (_MODE suffix), median (_MEDI suffix) apartment size, common area, living area, age of building, number of elevators, number of entrances, state of the building, number of floor\n",
    "- __FONDKAPREMONT_MODE__ - Normalized information about building where the client lives, What is average (_AVG suffix), modus (_MODE suffix), median (_MEDI suffix) apartment size, common area, living area, age of building, number of elevators, number of entrances, state of the building, number of floor\n",
    "- __HOUSETYPE_MODE__ - Normalized information about building where the client lives, What is average (_AVG suffix), modus (_MODE suffix), median (_MEDI suffix) apartment size, common area, living area, age of building, number of elevators, number of entrances, state of the building, number of floor\n",
    "- __TOTALAREA_MODE__ - Normalized information about building where the client lives, What is average (_AVG suffix), modus (_MODE suffix), median (_MEDI suffix) apartment size, common area, living area, age of building, number of elevators, number of entrances, state of the building, number of floor\n",
    "- __WALLSMATERIAL_MODE__ - Normalized information about building where the client lives, What is average (_AVG suffix), modus (_MODE suffix), median (_MEDI suffix) apartment size, common area, living area, age of building, number of elevators, number of entrances, state of the building, number of floor\n",
    "- __EMERGENCYSTATE_MODE__ - Normalized information about building where the client lives, What is average (_AVG suffix), modus (_MODE suffix), median (_MEDI suffix) apartment size, common area, living area, age of building, number of elevators, number of entrances, state of the building, number of floor\n",
    "- __OBS_30_CNT_SOCIAL_CIRCLE__ - How many observation of client's social surroundings with observable 30 DPD (days past due) default\n",
    "- __DEF_30_CNT_SOCIAL_CIRCLE__ - How many observation of client's social surroundings defaulted on 30 DPD (days past due) \n",
    "- __OBS_60_CNT_SOCIAL_CIRCLE__ - How many observation of client's social surroundings with observable 60 DPD (days past due) default\n",
    "- __DEF_60_CNT_SOCIAL_CIRCLE__ - How many observation of client's social surroundings defaulted on 60 (days past due) DPD\n",
    "- __DAYS_LAST_PHONE_CHANGE__ - How many days before application did client change phone\n",
    "- __FLAG_DOCUMENT_2__ - Did client provide document 2\n",
    "- __FLAG_DOCUMENT_3__ - Did client provide document 3\n",
    "- __FLAG_DOCUMENT_4__ - Did client provide document 4\n",
    "- __FLAG_DOCUMENT_5__ - Did client provide document 5\n",
    "- __FLAG_DOCUMENT_6__ - Did client provide document 6\n",
    "- __FLAG_DOCUMENT_7__ - Did client provide document 7\n",
    "- __FLAG_DOCUMENT_8__ - Did client provide document 8\n",
    "- __FLAG_DOCUMENT_9__ - Did client provide document 9\n",
    "- __FLAG_DOCUMENT_10__ - Did client provide document 10\n",
    "- __FLAG_DOCUMENT_11__ - Did client provide document 11\n",
    "- __FLAG_DOCUMENT_12__ - Did client provide document 12\n",
    "- __FLAG_DOCUMENT_13__ - Did client provide document 13\n",
    "- __FLAG_DOCUMENT_14__ - Did client provide document 14\n",
    "- __FLAG_DOCUMENT_15__ - Did client provide document 15\n",
    "- __FLAG_DOCUMENT_16__ - Did client provide document 16\n",
    "- __FLAG_DOCUMENT_17__ - Did client provide document 17\n",
    "- __FLAG_DOCUMENT_18__ - Did client provide document 18\n",
    "- __FLAG_DOCUMENT_19__ - Did client provide document 19\n",
    "- __FLAG_DOCUMENT_20__ - Did client provide document 20\n",
    "- __FLAG_DOCUMENT_21__ - Did client provide document 21\n",
    "- __AMT_REQ_CREDIT_BUREAU_HOUR__ - Number of enquiries to Credit Bureau about the client one hour before application\n",
    "- __AMT_REQ_CREDIT_BUREAU_DAY__ - Number of enquiries to Credit Bureau about the client one day before application (excluding one hour before application)\n",
    "- __AMT_REQ_CREDIT_BUREAU_WEEK__ - Number of enquiries to Credit Bureau about the client one week before application (excluding one day before application)\n",
    "- __AMT_REQ_CREDIT_BUREAU_MON__ - Number of enquiries to Credit Bureau about the client one month before application (excluding one week before application)\n",
    "- __AMT_REQ_CREDIT_BUREAU_QRT__ - Number of enquiries to Credit Bureau about the client 3 month before application (excluding one month before application)\n",
    "- __AMT_REQ_CREDIT_BUREAU_YEAR__ - Number of enquiries to Credit Bureau about the client one day year (excluding last 3 months before application)\n"
   ]
  },
  {
   "cell_type": "markdown",
   "metadata": {},
   "source": [
    "### Таблица credit_card_balance\n",
    "\n",
    "`\n",
    "Monthly balance snapshots of previous credit cards that the applicant has with Home Credit.\n",
    "This table has one row for each month of history of every previous credit in Home Credit (consumer credit and cash loans) related to loans in our sample – i.e. the table has (#loans in sample * # of relative previous credit cards * # of months where we have some history observable for the previous credit card) rows.\n",
    "`\n",
    "\n",
    "- __SK_ID_CURR__ - идентифокатор заявки (см. поле SK_ID_CURR в таблице application).\n",
    "- __SK_ID_PREV__ - идентифокатор старой заявки, связанной с SK_ID_CURR.\n",
    "- __MONTHS_BALANCE__ - Идентифокатор месяца, для которого приводится информация по этой SK_ID_PREV (-1 означает начальный месяц).\n",
    "- __AMT_BALANCE__ - Баланс. \n",
    "- __AMT_CREDIT_LIMIT_ACTUAL__ - Лимит по кредитной карте. \n",
    "- __AMT_DRAWINGS_ATM_CURRENT__ - Сумма снятий в AMT за месяц\n",
    "- __AMT_DRAWINGS_CURRENT__ - Сумма снятий за месяц\n",
    "- __AMT_DRAWINGS_OTHER_CURRENT__ - Сумма других снятий за месяц\n",
    "- __AMT_DRAWINGS_POS_CURRENT__ - Сумма снятий или покупок за месяц\n",
    "- __AMT_INST_MIN_REGULARITY__ - Минимальный платеж в этом месяце\n",
    "- __AMT_PAYMENT_CURRENT__ - Выплачено кредита за месяц\n",
    "- __AMT_PAYMENT_TOTAL_CURRENT__ - Выплачено кредита за месяц всего\n",
    "- __AMT_RECEIVABLE_PRINCIPAL__ - Выплачено номинала за месяц\n",
    "- __AMT_RECIVABLE__ - Amount receivable on the previous credit \n",
    "- __AMT_TOTAL_RECEIVABLE__ - Total amount receivable on the previous credit \n",
    "- __CNT_DRAWINGS_ATM_CURRENT__ - Количество других снятий за месяц\n",
    "- __CNT_DRAWINGS_CURRENT__ - Количество снятий за месяц\n",
    "- __CNT_DRAWINGS_OTHER_CURRENT__ - Количество других снятий за месяц\n",
    "- __CNT_DRAWINGS_POS_CURRENT__ - Количество снятий или покупок за месяц\n",
    "- __CNT_INSTALMENT_MATURE_CUM__ - Число платежей за месяц\n",
    "- __NAME_CONTRACT_STATUS__ - Статус контракта (active signed,...)\n",
    "- __SK_DPD__ - Число дней просрочки\n",
    "- __SK_DPD_DEF__ - Число дней просрочки со скидкой (небольшие заявки игнорируются)\n"
   ]
  },
  {
   "cell_type": "markdown",
   "metadata": {},
   "source": [
    "## Задача\n",
    "\n",
    "Необходимо для каждой заявки определить, будет ли выплачен кредит - задача бинарной классификации.\n",
    "\n",
    "Метрика оценки качества - AUC ROC - площадь под ROC кривой, либо, что то же самое, доля пар объектов разных классов, которые алгоритм правильно угадал.\n",
    "\n",
    "$$AUC(a) = \\frac{\\sum_{p\\in P}\\sum_{n\\in N}[a(p) > a(n)]}{|P||N|}$$\n",
    "\n",
    "где $a$ - алгоритм, $P$ - множество объектов с target $=1$,  $N$ - множество объектов с target $=0$"
   ]
  },
  {
   "cell_type": "markdown",
   "metadata": {},
   "source": [
    "## Exploratory Data Analysis"
   ]
  },
  {
   "cell_type": "code",
   "execution_count": 1,
   "metadata": {},
   "outputs": [],
   "source": [
    "import pandas as pd\n",
    "import numpy as np\n",
    "\n",
    "import matplotlib.pyplot as plt\n",
    "import seaborn as sns\n",
    "sns.set(context=\"paper\", style=\"whitegrid\", font_scale=2)"
   ]
  },
  {
   "cell_type": "code",
   "execution_count": 2,
   "metadata": {},
   "outputs": [],
   "source": [
    "APPLICATION_TRAIN_DF = pd.read_csv('data/application_train.csv')\n",
    "APPLICATION_TEST_DF = pd.read_csv('data/application_test.csv')"
   ]
  },
  {
   "cell_type": "code",
   "execution_count": 27,
   "metadata": {},
   "outputs": [
    {
     "data": {
      "image/png": "[encoded data removed]",
      "text/plain": [
       "<Figure size 600x600 with 1 Axes>"
      ]
     },
     "metadata": {},
     "output_type": "display_data"
    }
   ],
   "source": [
    "with plt.style.context('seaborn-pastel'):\n",
    "    sns.set(context=\"paper\", style=\"whitegrid\", font_scale=2)\n",
    "    labels = ['Кредит выплачен', 'Трудности с выплатами']\n",
    "    colors = ['steelblue', 'lightskyblue']\n",
    "    count_ones = APPLICATION_TRAIN_DF['TARGET'].sum().astype(int)\n",
    "    count_zeros = APPLICATION_TRAIN_DF['TARGET'].count().astype(int) - count_ones\n",
    "    f = plt.figure(figsize=(6, 6), dpi=100)\n",
    "    _, _, autotexts = plt.pie([count_zeros, count_ones], colors=colors, explode = (0, 0.15),\n",
    "            labels=labels, startangle=270, autopct='%.1f%%', shadow=True, )\n",
    "    for autotext in autotexts:\n",
    "        autotext.set_color('white')\n",
    "    plt.tight_layout()\n",
    "    f.savefig('1.png', dpi=f.dpi)\n",
    "    plt.show()"
   ]
  },
  {
   "cell_type": "code",
   "execution_count": null,
   "metadata": {},
   "outputs": [],
   "source": [
    "APPLICATION_TRAIN_DF"
   ]
  },
  {
   "cell_type": "markdown",
   "metadata": {},
   "source": [
    "Мы имеем дело с несбалансированной выборкой. Это нужно помнить при построении модели."
   ]
  },
  {
   "cell_type": "markdown",
   "metadata": {},
   "source": [
    "## Построение модели"
   ]
  },
  {
   "cell_type": "markdown",
   "metadata": {},
   "source": [
    "Построение модели начинаем с основной таблицы: application.\n",
    "\n",
    "- Для начала выполняем первичный анализ этой таблицы: application.ipynb\n",
    "- Основываясь на проведенном анализе строим базовую модель: application_model.ipynb.\n",
    "- Проводим WOE-IV анализ над признаками в базовой модели: application_model_exploration.ipynb\n",
    "- Анализируем корреляции и удаляем лишние признаки: application_model_exploration.ipynb\n",
    "- Строим модель application_model-2.ipynb, score в соревновании 0.73782."
   ]
  },
  {
   "cell_type": "code",
   "execution_count": 25,
   "metadata": {},
   "outputs": [],
   "source": [
    "import main_functions"
   ]
  },
  {
   "cell_type": "code",
   "execution_count": 26,
   "metadata": {},
   "outputs": [
    {
     "name": "stderr",
     "output_type": "stream",
     "text": [
      "/Users/juliasemavina/anaconda3/lib/python3.7/site-packages/numpy/lib/nanfunctions.py:1116: RuntimeWarning: All-NaN slice encountered\n",
      "  overwrite_input=overwrite_input)\n"
     ]
    }
   ],
   "source": [
    "application_df = pd.read_csv('data/application_train.csv')\n",
    "application_test_df = pd.read_csv('data/application_test.csv')\n",
    "\n",
    "application_mod_df, qd = main_functions.build_training_data_for_application(application_df)\n",
    "application_mod_test_df, _ = main_functions.build_training_data_for_application(\n",
    "    application_test_df, qd)\n",
    "\n",
    "\n",
    "applications_features = np.array(application_mod_df.columns)\n",
    "bureau = pd.read_csv('data/bureau.csv')\n",
    "ccb = pd.read_csv('data/credit_card_balance.csv')\n",
    "pos_cash = pd.read_csv('data/POS_CASH_balance.csv')\n",
    "installments_payment = pd.read_csv('data/installments_payments.csv')\n",
    "previous_application = pd.read_csv('data/previous_application.csv')"
   ]
  },
  {
   "cell_type": "code",
   "execution_count": 28,
   "metadata": {},
   "outputs": [],
   "source": [
    "ids = set(np.array(application_df['SK_ID_CURR']))\n",
    "bureau_ids = set(np.array(bureau['SK_ID_CURR']))\n",
    "ccb_ids = set(np.array(ccb['SK_ID_CURR']))\n",
    "pos_cash_ids = set(np.array(pos_cash['SK_ID_CURR']))\n",
    "installments_payment_ids = set(np.array(installments_payment['SK_ID_CURR']))\n",
    "previous_application_ids = set(np.array(previous_application['SK_ID_CURR']))"
   ]
  },
  {
   "cell_type": "code",
   "execution_count": null,
   "metadata": {},
   "outputs": [],
   "source": []
  },
  {
   "cell_type": "code",
   "execution_count": 29,
   "metadata": {},
   "outputs": [],
   "source": [
    "not_in_bureau = list(ids - bureau_ids)\n",
    "not_in_ccb = list(ids - ccb_ids)\n",
    "not_in_pos_cash = list(ids - pos_cash_ids)\n",
    "not_in_installments_payment = list(ids - installments_payment_ids)\n",
    "not_in_previous_application = list(ids - previous_application_ids)"
   ]
  },
  {
   "cell_type": "code",
   "execution_count": 46,
   "metadata": {},
   "outputs": [],
   "source": [
    "DF = pd.DataFrame(columns=['Таблица', 'Число отсутствующих заявок', 'Процент отсутствующих заявок от общего числа заявок'])"
   ]
  },
  {
   "cell_type": "code",
   "execution_count": 47,
   "metadata": {},
   "outputs": [],
   "source": [
    "DF = DF.append({\n",
    "    'Таблица': 'bureau',\n",
    "    'Число отсутствующих заявок': 44020,\n",
    "    'Процент отсутствующих заявок от общего числа заявок': (44020 / 307511) * 10000 // 100, \n",
    "}, ignore_index=True)\n",
    "DF = DF.append({\n",
    "    'Таблица': 'credit_card_balance',\n",
    "    'Число отсутствующих заявок': len(not_in_ccb),\n",
    "    'Процент отсутствующих заявок от общего числа заявок': (len(not_in_ccb) / 307511) * 10000 // 100, \n",
    "}, ignore_index=True)\n",
    "DF = DF.append({\n",
    "    'Таблица': 'pos_cash',\n",
    "    'Число отсутствующих заявок': len(not_in_pos_cash),\n",
    "    'Процент отсутствующих заявок от общего числа заявок': (len(not_in_pos_cash) / 307511) * 10000 // 100, \n",
    "}, ignore_index=True)\n",
    "DF = DF.append({\n",
    "    'Таблица': 'installments_payment',\n",
    "    'Число отсутствующих заявок': len(not_in_installments_payment),\n",
    "    'Процент отсутствующих заявок от общего числа заявок': (len(not_in_installments_payment) / 307511) * 10000 // 100, \n",
    "}, ignore_index=True)\n",
    "DF = DF.append({\n",
    "    'Таблица': 'previous_application',\n",
    "    'Число отсутствующих заявок': len(not_in_previous_application),\n",
    "    'Процент отсутствующих заявок от общего числа заявок': (len(not_in_previous_application) / 307511) * 10000 // 100, \n",
    "}, ignore_index=True)"
   ]
  },
  {
   "cell_type": "code",
   "execution_count": 48,
   "metadata": {},
   "outputs": [
    {
     "data": {
      "text/html": [
       "<div>\n",
       "<style scoped>\n",
       "    .dataframe tbody tr th:only-of-type {\n",
       "        vertical-align: middle;\n",
       "    }\n",
       "\n",
       "    .dataframe tbody tr th {\n",
       "        vertical-align: top;\n",
       "    }\n",
       "\n",
       "    .dataframe thead th {\n",
       "        text-align: right;\n",
       "    }\n",
       "</style>\n",
       "<table border=\"1\" class=\"dataframe\">\n",
       "  <thead>\n",
       "    <tr style=\"text-align: right;\">\n",
       "      <th></th>\n",
       "      <th>Таблица</th>\n",
       "      <th>Число отсутствующих заявок</th>\n",
       "      <th>Процент отсутствующих заявок от общего числа заявок</th>\n",
       "    </tr>\n",
       "  </thead>\n",
       "  <tbody>\n",
       "    <tr>\n",
       "      <th>1</th>\n",
       "      <td>credit_card_balance</td>\n",
       "      <td>220606</td>\n",
       "      <td>71.0</td>\n",
       "    </tr>\n",
       "    <tr>\n",
       "      <th>0</th>\n",
       "      <td>bureau</td>\n",
       "      <td>44020</td>\n",
       "      <td>14.0</td>\n",
       "    </tr>\n",
       "    <tr>\n",
       "      <th>2</th>\n",
       "      <td>pos_cash</td>\n",
       "      <td>18067</td>\n",
       "      <td>5.0</td>\n",
       "    </tr>\n",
       "    <tr>\n",
       "      <th>3</th>\n",
       "      <td>installments_payment</td>\n",
       "      <td>15868</td>\n",
       "      <td>5.0</td>\n",
       "    </tr>\n",
       "    <tr>\n",
       "      <th>4</th>\n",
       "      <td>previous_application</td>\n",
       "      <td>16454</td>\n",
       "      <td>5.0</td>\n",
       "    </tr>\n",
       "  </tbody>\n",
       "</table>\n",
       "</div>"
      ],
      "text/plain": [
       "                Таблица Число отсутствующих заявок  \\\n",
       "1   credit_card_balance                     220606   \n",
       "0                bureau                      44020   \n",
       "2              pos_cash                      18067   \n",
       "3  installments_payment                      15868   \n",
       "4  previous_application                      16454   \n",
       "\n",
       "   Процент отсутствующих заявок от общего числа заявок  \n",
       "1                                               71.0    \n",
       "0                                               14.0    \n",
       "2                                                5.0    \n",
       "3                                                5.0    \n",
       "4                                                5.0    "
      ]
     },
     "execution_count": 48,
     "metadata": {},
     "output_type": "execute_result"
    }
   ],
   "source": [
    "DF.sort_values(['Процент отсутствующих заявок от общего числа заявок'], ascending=False)"
   ]
  },
  {
   "cell_type": "code",
   "execution_count": 30,
   "metadata": {},
   "outputs": [
    {
     "data": {
      "text/plain": [
       "44020"
      ]
     },
     "execution_count": 30,
     "metadata": {},
     "output_type": "execute_result"
    }
   ],
   "source": [
    "len(not_in_bureau)"
   ]
  },
  {
   "cell_type": "code",
   "execution_count": 31,
   "metadata": {},
   "outputs": [
    {
     "data": {
      "text/plain": [
       "220606"
      ]
     },
     "execution_count": 31,
     "metadata": {},
     "output_type": "execute_result"
    }
   ],
   "source": [
    "len(not_in_ccb)"
   ]
  },
  {
   "cell_type": "code",
   "execution_count": null,
   "metadata": {},
   "outputs": [],
   "source": []
  }
 ],
 "metadata": {
  "kernelspec": {
   "display_name": "Python 3",
   "language": "python",
   "name": "python3"
  },
  "language_info": {
   "codemirror_mode": {
    "name": "ipython",
    "version": 3
   },
   "file_extension": ".py",
   "mimetype": "text/x-python",
   "name": "python",
   "nbconvert_exporter": "python",
   "pygments_lexer": "ipython3",
   "version": "3.7.1"
  }
 },
 "nbformat": 4,
 "nbformat_minor": 2
}
